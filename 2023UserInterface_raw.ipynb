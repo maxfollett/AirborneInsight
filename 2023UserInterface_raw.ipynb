{
 "cells": [
  {
   "cell_type": "code",
   "execution_count": 2,
   "id": "8fe67d12-a438-4078-9018-8d3da0e3fd58",
   "metadata": {},
   "outputs": [
    {
     "ename": "IndentationError",
     "evalue": "expected an indented block after function definition on line 6 (4032645146.py, line 8)",
     "output_type": "error",
     "traceback": [
      "\u001b[0;36m  Cell \u001b[0;32mIn[2], line 8\u001b[0;36m\u001b[0m\n\u001b[0;31m    data_path1 = fd.askopenfilename(filetypes=[('.csvfiles', '.csv')], title='Provide location of Survey 1')\u001b[0m\n\u001b[0m    ^\u001b[0m\n\u001b[0;31mIndentationError\u001b[0m\u001b[0;31m:\u001b[0m expected an indented block after function definition on line 6\n"
     ]
    }
   ],
   "source": [
    "from tkinter import filedialog as fd #filedialog is used for sile selection dialogs\n",
    "from tkinter import simpledialog #Simpledialog is used for prompting the user for imput\n",
    "import pandas as pd #pandas and numpy are imported for data manipulation and numerical opertations\n",
    "import numpy as np\n",
    "\n",
    "def GetInputs(): # defines a function (getimputs) which will gather user imputs for the project\n",
    "\n",
    "data_path1 = fd.askopenfilename(filetypes=[('.csvfiles', '.csv')], title='Provide location of Survey 1')\n",
    "\n",
    "# promps the user to select a CVS file for Survey 1. If not file is selected it raises a FileNotFoundError \n",
    "\n",
    "def ask_for_value(title, prompt, default):\n",
    "    param = simpledialog.askstring(title, prompt)\n",
    "    try:\n",
    "        param = int(param)\n",
    "    except:\n",
    "        print(\"invalid input, using default %d\" % default)\n",
    "        param = default\n",
    "    return param\n",
    "#the askforvalue function is defined to display a dialog that asks the user for an interger imput. If the imput is invalid, it defaults to a specified value\n",
    "\n",
    "\n",
    "#Gathering parameters: studyarealength patch size with a default of 50\n",
    "#xlength: number of grid points with a default of 1000\n",
    "#epsg_code european petroleum survey group code, with a default of 0\n",
    "\n",
    "studyarealength = ask_for_value(\"Please Provide a patch size\", \"Please enter an integer value or dismiss this window the default value of 50\", 50)\n",
    "xlength = ask_for_value(\"Please Provide a number of grid points\", \"Please enter an integer value or dismiss this window the default value of 1000\", 1000)\n",
    "epsg_code = ask_for_value(\"Please Provide an EPSG Code\", \"Please enter an integer value or dismiss this window the default value of 0000\", 0000)\n",
    "\n",
    "\n",
    "#this part creates a loop thath [romps the user to select an interpolation mathod, \n",
    "#nearest linear, cubic, until a valid option is given\n",
    "\n",
    "interp_method = None\n",
    "while True:\n",
    "    interp_method = simpledialog.askstring(\"Interpolation Method\", \"Type 0 for nearest, 1 for linear, 2 for cubic. This will reprompt until a valid value is given\")\n",
    "    if (interp_method == '0' or interp_method == '1' or interp_method == '2'):\n",
    "        break\n",
    "if interp_method == '0':\n",
    "    interp_method = 'nearest'\n",
    "elif interp_method == '1':\n",
    "    interp_method = 'linear'\n",
    "elif interp_method == '2':\n",
    "    interp_method = 'cubic'\n",
    "\n",
    "#another loop promps the user to turn the landsat option on or off \n",
    "\n",
    "\n",
    "landsat_selector = None\n",
    "while True:\n",
    "    landsat_selector = simpledialog.askstring(\"Landsat ON or OFF\", \"Type 0 for OFF, 1 for ON. This will reprompt until valid value is given\")\n",
    "    if (landsat_selector == '0' or landsat_selector == '1'):\n",
    "        break\n",
    "\n",
    "return data_\n",
    "\n",
    "#finally the function is expected to return some data through the variable data_ isnt defined in this snippit \n",
    "\n",
    "\n"
   ]
  }
 ],
 "metadata": {
  "kernelspec": {
   "display_name": "Python 3 (ipykernel)",
   "language": "python",
   "name": "python3"
  },
  "language_info": {
   "codemirror_mode": {
    "name": "ipython",
    "version": 3
   },
   "file_extension": ".py",
   "mimetype": "text/x-python",
   "name": "python",
   "nbconvert_exporter": "python",
   "pygments_lexer": "ipython3",
   "version": "3.12.6"
  }
 },
 "nbformat": 4,
 "nbformat_minor": 5
}
